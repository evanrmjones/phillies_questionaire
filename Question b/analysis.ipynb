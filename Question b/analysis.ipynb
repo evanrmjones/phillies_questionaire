{
 "metadata": {
  "language_info": {
   "codemirror_mode": {
    "name": "ipython",
    "version": 3
   },
   "file_extension": ".py",
   "mimetype": "text/x-python",
   "name": "python",
   "nbconvert_exporter": "python",
   "pygments_lexer": "ipython3",
   "version": "3.9.1-final"
  },
  "orig_nbformat": 2,
  "kernelspec": {
   "name": "python3",
   "display_name": "Python 3.9.1 64-bit",
   "metadata": {
    "interpreter": {
     "hash": "aee8b7b246df8f9039afb4144a1f6fd8d2ca17a180786b69acc140d282b71a49"
    }
   }
  }
 },
 "nbformat": 4,
 "nbformat_minor": 2,
 "cells": [
  {
   "source": [
    "# In this Jupyter Notebook I will read in the data that was given and calculate what a qualifying offer would be, based on the average of the top 125 salaries in the MLB."
   ],
   "cell_type": "markdown",
   "metadata": {}
  },
  {
   "cell_type": "code",
   "execution_count": 1,
   "metadata": {},
   "outputs": [],
   "source": [
    "import pandas as pd"
   ]
  },
  {
   "source": [
    "## First, I read in the data that I converted into a CSV file. In excel where I converted the file I made all the values integers and \"no salary data\" 0. "
   ],
   "cell_type": "markdown",
   "metadata": {}
  },
  {
   "cell_type": "code",
   "execution_count": 2,
   "metadata": {},
   "outputs": [
    {
     "output_type": "execute_result",
     "data": {
      "text/plain": [
       "                  Player      Salary  Year Level\n",
       "0            Abreu, Jose  11666667.0  2016   MLB\n",
       "1        Acevedo, Andury    507500.0  2016   MLB\n",
       "2         Ackley, Dustin   3200000.0  2016   MLB\n",
       "3      Adames, Cristhian    507500.0  2016   MLB\n",
       "4          Adams, Austin    507500.0  2016   MLB\n",
       "...                  ...         ...   ...   ...\n",
       "1203     Zimmerman, Ryan  14000000.0  2016   MLB\n",
       "1204  Zimmermann, Jordan  18000000.0  2016   MLB\n",
       "1205        Zobrist, Ben  10500000.0  2016   MLB\n",
       "1206        Zunino, Mike    507500.0  2016   MLB\n",
       "1207          Zych, Tony    507500.0  2016   MLB\n",
       "\n",
       "[1208 rows x 4 columns]"
      ],
      "text/html": "<div>\n<style scoped>\n    .dataframe tbody tr th:only-of-type {\n        vertical-align: middle;\n    }\n\n    .dataframe tbody tr th {\n        vertical-align: top;\n    }\n\n    .dataframe thead th {\n        text-align: right;\n    }\n</style>\n<table border=\"1\" class=\"dataframe\">\n  <thead>\n    <tr style=\"text-align: right;\">\n      <th></th>\n      <th>Player</th>\n      <th>Salary</th>\n      <th>Year</th>\n      <th>Level</th>\n    </tr>\n  </thead>\n  <tbody>\n    <tr>\n      <th>0</th>\n      <td>Abreu, Jose</td>\n      <td>11666667.0</td>\n      <td>2016</td>\n      <td>MLB</td>\n    </tr>\n    <tr>\n      <th>1</th>\n      <td>Acevedo, Andury</td>\n      <td>507500.0</td>\n      <td>2016</td>\n      <td>MLB</td>\n    </tr>\n    <tr>\n      <th>2</th>\n      <td>Ackley, Dustin</td>\n      <td>3200000.0</td>\n      <td>2016</td>\n      <td>MLB</td>\n    </tr>\n    <tr>\n      <th>3</th>\n      <td>Adames, Cristhian</td>\n      <td>507500.0</td>\n      <td>2016</td>\n      <td>MLB</td>\n    </tr>\n    <tr>\n      <th>4</th>\n      <td>Adams, Austin</td>\n      <td>507500.0</td>\n      <td>2016</td>\n      <td>MLB</td>\n    </tr>\n    <tr>\n      <th>...</th>\n      <td>...</td>\n      <td>...</td>\n      <td>...</td>\n      <td>...</td>\n    </tr>\n    <tr>\n      <th>1203</th>\n      <td>Zimmerman, Ryan</td>\n      <td>14000000.0</td>\n      <td>2016</td>\n      <td>MLB</td>\n    </tr>\n    <tr>\n      <th>1204</th>\n      <td>Zimmermann, Jordan</td>\n      <td>18000000.0</td>\n      <td>2016</td>\n      <td>MLB</td>\n    </tr>\n    <tr>\n      <th>1205</th>\n      <td>Zobrist, Ben</td>\n      <td>10500000.0</td>\n      <td>2016</td>\n      <td>MLB</td>\n    </tr>\n    <tr>\n      <th>1206</th>\n      <td>Zunino, Mike</td>\n      <td>507500.0</td>\n      <td>2016</td>\n      <td>MLB</td>\n    </tr>\n    <tr>\n      <th>1207</th>\n      <td>Zych, Tony</td>\n      <td>507500.0</td>\n      <td>2016</td>\n      <td>MLB</td>\n    </tr>\n  </tbody>\n</table>\n<p>1208 rows × 4 columns</p>\n</div>"
     },
     "metadata": {},
     "execution_count": 2
    }
   ],
   "source": [
    "df = pd.read_csv(\"data_phillies.csv\")\n",
    "df"
   ]
  },
  {
   "source": [
    "## Next, I select the salary column because that is what we are interested in analyzing."
   ],
   "cell_type": "markdown",
   "metadata": {}
  },
  {
   "cell_type": "code",
   "execution_count": 3,
   "metadata": {},
   "outputs": [
    {
     "output_type": "execute_result",
     "data": {
      "text/plain": [
       "          Salary\n",
       "0     11666667.0\n",
       "1       507500.0\n",
       "2      3200000.0\n",
       "3       507500.0\n",
       "4       507500.0\n",
       "...          ...\n",
       "1203  14000000.0\n",
       "1204  18000000.0\n",
       "1205  10500000.0\n",
       "1206    507500.0\n",
       "1207    507500.0\n",
       "\n",
       "[1208 rows x 1 columns]"
      ],
      "text/html": "<div>\n<style scoped>\n    .dataframe tbody tr th:only-of-type {\n        vertical-align: middle;\n    }\n\n    .dataframe tbody tr th {\n        vertical-align: top;\n    }\n\n    .dataframe thead th {\n        text-align: right;\n    }\n</style>\n<table border=\"1\" class=\"dataframe\">\n  <thead>\n    <tr style=\"text-align: right;\">\n      <th></th>\n      <th>Salary</th>\n    </tr>\n  </thead>\n  <tbody>\n    <tr>\n      <th>0</th>\n      <td>11666667.0</td>\n    </tr>\n    <tr>\n      <th>1</th>\n      <td>507500.0</td>\n    </tr>\n    <tr>\n      <th>2</th>\n      <td>3200000.0</td>\n    </tr>\n    <tr>\n      <th>3</th>\n      <td>507500.0</td>\n    </tr>\n    <tr>\n      <th>4</th>\n      <td>507500.0</td>\n    </tr>\n    <tr>\n      <th>...</th>\n      <td>...</td>\n    </tr>\n    <tr>\n      <th>1203</th>\n      <td>14000000.0</td>\n    </tr>\n    <tr>\n      <th>1204</th>\n      <td>18000000.0</td>\n    </tr>\n    <tr>\n      <th>1205</th>\n      <td>10500000.0</td>\n    </tr>\n    <tr>\n      <th>1206</th>\n      <td>507500.0</td>\n    </tr>\n    <tr>\n      <th>1207</th>\n      <td>507500.0</td>\n    </tr>\n  </tbody>\n</table>\n<p>1208 rows × 1 columns</p>\n</div>"
     },
     "metadata": {},
     "execution_count": 3
    }
   ],
   "source": [
    "just_salary = df[[\"Salary\"]]\n",
    "just_salary "
   ]
  },
  {
   "source": [
    "## Then, I dropped any null values from the column to only leave us with the numbers we are intersted in."
   ],
   "cell_type": "markdown",
   "metadata": {}
  },
  {
   "cell_type": "code",
   "execution_count": 4,
   "metadata": {},
   "outputs": [
    {
     "output_type": "execute_result",
     "data": {
      "text/plain": [
       "          Salary\n",
       "0     11666667.0\n",
       "1       507500.0\n",
       "2      3200000.0\n",
       "3       507500.0\n",
       "4       507500.0\n",
       "...          ...\n",
       "1203  14000000.0\n",
       "1204  18000000.0\n",
       "1205  10500000.0\n",
       "1206    507500.0\n",
       "1207    507500.0\n",
       "\n",
       "[1196 rows x 1 columns]"
      ],
      "text/html": "<div>\n<style scoped>\n    .dataframe tbody tr th:only-of-type {\n        vertical-align: middle;\n    }\n\n    .dataframe tbody tr th {\n        vertical-align: top;\n    }\n\n    .dataframe thead th {\n        text-align: right;\n    }\n</style>\n<table border=\"1\" class=\"dataframe\">\n  <thead>\n    <tr style=\"text-align: right;\">\n      <th></th>\n      <th>Salary</th>\n    </tr>\n  </thead>\n  <tbody>\n    <tr>\n      <th>0</th>\n      <td>11666667.0</td>\n    </tr>\n    <tr>\n      <th>1</th>\n      <td>507500.0</td>\n    </tr>\n    <tr>\n      <th>2</th>\n      <td>3200000.0</td>\n    </tr>\n    <tr>\n      <th>3</th>\n      <td>507500.0</td>\n    </tr>\n    <tr>\n      <th>4</th>\n      <td>507500.0</td>\n    </tr>\n    <tr>\n      <th>...</th>\n      <td>...</td>\n    </tr>\n    <tr>\n      <th>1203</th>\n      <td>14000000.0</td>\n    </tr>\n    <tr>\n      <th>1204</th>\n      <td>18000000.0</td>\n    </tr>\n    <tr>\n      <th>1205</th>\n      <td>10500000.0</td>\n    </tr>\n    <tr>\n      <th>1206</th>\n      <td>507500.0</td>\n    </tr>\n    <tr>\n      <th>1207</th>\n      <td>507500.0</td>\n    </tr>\n  </tbody>\n</table>\n<p>1196 rows × 1 columns</p>\n</div>"
     },
     "metadata": {},
     "execution_count": 4
    }
   ],
   "source": [
    "masked = just_salary[just_salary[\"Salary\"].notna()]\n",
    "masked.dropna(how = \"any\")\n",
    "masked"
   ]
  },
  {
   "source": [
    "## I then put the Data Frame into descending order, which means the highest value is at the top, counting down. I took the highest 125 values and I put that into a new Data Frame. "
   ],
   "cell_type": "markdown",
   "metadata": {}
  },
  {
   "cell_type": "code",
   "execution_count": 6,
   "metadata": {},
   "outputs": [
    {
     "output_type": "execute_result",
     "data": {
      "text/plain": [
       "          Salary\n",
       "583   34571429.0\n",
       "449   34000000.0\n",
       "871   30000000.0\n",
       "471   28410000.0\n",
       "1133  28000000.0\n",
       "...          ...\n",
       "476   10000000.0\n",
       "517   10000000.0\n",
       "257   10000000.0\n",
       "580   10000000.0\n",
       "146    9950000.0\n",
       "\n",
       "[125 rows x 1 columns]"
      ],
      "text/html": "<div>\n<style scoped>\n    .dataframe tbody tr th:only-of-type {\n        vertical-align: middle;\n    }\n\n    .dataframe tbody tr th {\n        vertical-align: top;\n    }\n\n    .dataframe thead th {\n        text-align: right;\n    }\n</style>\n<table border=\"1\" class=\"dataframe\">\n  <thead>\n    <tr style=\"text-align: right;\">\n      <th></th>\n      <th>Salary</th>\n    </tr>\n  </thead>\n  <tbody>\n    <tr>\n      <th>583</th>\n      <td>34571429.0</td>\n    </tr>\n    <tr>\n      <th>449</th>\n      <td>34000000.0</td>\n    </tr>\n    <tr>\n      <th>871</th>\n      <td>30000000.0</td>\n    </tr>\n    <tr>\n      <th>471</th>\n      <td>28410000.0</td>\n    </tr>\n    <tr>\n      <th>1133</th>\n      <td>28000000.0</td>\n    </tr>\n    <tr>\n      <th>...</th>\n      <td>...</td>\n    </tr>\n    <tr>\n      <th>476</th>\n      <td>10000000.0</td>\n    </tr>\n    <tr>\n      <th>517</th>\n      <td>10000000.0</td>\n    </tr>\n    <tr>\n      <th>257</th>\n      <td>10000000.0</td>\n    </tr>\n    <tr>\n      <th>580</th>\n      <td>10000000.0</td>\n    </tr>\n    <tr>\n      <th>146</th>\n      <td>9950000.0</td>\n    </tr>\n  </tbody>\n</table>\n<p>125 rows × 1 columns</p>\n</div>"
     },
     "metadata": {},
     "execution_count": 6
    }
   ],
   "source": [
    "descending = just_salary.sort_values(by=\"Salary\", ascending = False)\n",
    "top_125 = descending.head(125)\n",
    "top_125"
   ]
  },
  {
   "source": [
    "## Finally, I calculate the mean of these 125 values through Pandas built in mean function."
   ],
   "cell_type": "markdown",
   "metadata": {}
  },
  {
   "cell_type": "code",
   "execution_count": 7,
   "metadata": {},
   "outputs": [
    {
     "output_type": "execute_result",
     "data": {
      "text/plain": [
       "Salary    16518994.0\n",
       "dtype: float32"
      ]
     },
     "metadata": {},
     "execution_count": 7
    }
   ],
   "source": [
    "qual_offer = (top_125.astype('float32').mean(axis = 0))\n",
    "qual_offer"
   ]
  },
  {
   "source": [
    "From this, we can see the qualifying offer for 2016 that we calculated is: 16,518,994. From a quick google search, I found that the actual qualifying offer in 2016 was 17.2 million, which is close to what we got here. If it wasn't for the some players having no salary data or null values for their salary, the figure should line up exactly. "
   ],
   "cell_type": "markdown",
   "metadata": {}
  }
 ]
}